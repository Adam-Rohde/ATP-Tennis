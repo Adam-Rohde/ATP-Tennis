{
  "nbformat": 4,
  "nbformat_minor": 0,
  "metadata": {
    "colab": {
      "name": "ATP Match Data Clean and Database Creation.ipynb",
      "provenance": [],
      "collapsed_sections": []
    },
    "kernelspec": {
      "name": "python3",
      "display_name": "Python 3"
    }
  },
  "cells": [
    {
      "cell_type": "markdown",
      "metadata": {
        "id": "Rui0i8WEHYYH",
        "colab_type": "text"
      },
      "source": [
        "#**ATP Match Data Clean and Database Creation**\n",
        "\n",
        "Using what we learned from exploring the data, we'll now create an analysis SQL database that removes some of the troubling observations, repopulates some missing data, and some other pre-processing. First, we mount my google drive where I've saved the data we'll be using. "
      ]
    },
    {
      "cell_type": "code",
      "metadata": {
        "id": "Y6boHFGiHKQ0",
        "colab_type": "code",
        "colab": {
          "base_uri": "https://localhost:8080/",
          "height": 54
        },
        "outputId": "06cc49b0-96f2-4068-e17c-ef63c391eb47"
      },
      "source": [
        "from google.colab import drive\n",
        "drive.mount('/content/drive')"
      ],
      "execution_count": 1,
      "outputs": [
        {
          "output_type": "stream",
          "text": [
            "Drive already mounted at /content/drive; to attempt to forcibly remount, call drive.mount(\"/content/drive\", force_remount=True).\n"
          ],
          "name": "stdout"
        }
      ]
    },
    {
      "cell_type": "markdown",
      "metadata": {
        "id": "vw2A9AwhIZaK",
        "colab_type": "text"
      },
      "source": [
        "We then import the packages we'll need. \n"
      ]
    },
    {
      "cell_type": "code",
      "metadata": {
        "id": "ZuhMGlLOIZgg",
        "colab_type": "code",
        "colab": {
          "base_uri": "https://localhost:8080/",
          "height": 71
        },
        "outputId": "d877c065-142f-42d9-cffe-7686334a3af5"
      },
      "source": [
        "import sqlite3\n",
        "import pandas as pd\n",
        "import numpy as np\n",
        "import matplotlib.pyplot as plt\n",
        "from collections import Counter \n",
        "import os\n",
        "import glob\n",
        "import seaborn as sns\n",
        "import datetime\n",
        "import re\n",
        "os.chdir(\"/content/drive/My Drive/ATP Tennis/Data/\")"
      ],
      "execution_count": 2,
      "outputs": [
        {
          "output_type": "stream",
          "text": [
            "/usr/local/lib/python3.6/dist-packages/statsmodels/tools/_testing.py:19: FutureWarning: pandas.util.testing is deprecated. Use the functions in the public API at pandas.testing instead.\n",
            "  import pandas.util.testing as tm\n"
          ],
          "name": "stderr"
        }
      ]
    },
    {
      "cell_type": "markdown",
      "metadata": {
        "id": "FkBAg6Cs5Pc-",
        "colab_type": "text"
      },
      "source": [
        "Then we read in the csv data into pandas data frames. We'll use these to clean the data before creating our analysis database. The data are 1991-2020 ATP tour-level main draw singles matches, players, and rankings. Most of the information in the player and ranking tables is already be in the match data, but we'll see if the player and ranking tables allow us to populate any missing information."
      ]
    },
    {
      "cell_type": "markdown",
      "metadata": {
        "id": "nJBot74r6eXz",
        "colab_type": "text"
      },
      "source": [
        "**Player Data**\n",
        "\n",
        "We read in the player data. We don't do any processing of this data."
      ]
    },
    {
      "cell_type": "code",
      "metadata": {
        "id": "895BHn34UJR9",
        "colab_type": "code",
        "colab": {}
      },
      "source": [
        "atp_players = pd.read_csv(\"atp_players.csv\",names=[\"player\",\"first_name\",\"last_name\",\"hand\",\"birth_date\",\"country_code\"])"
      ],
      "execution_count": 3,
      "outputs": []
    },
    {
      "cell_type": "markdown",
      "metadata": {
        "id": "JlrOa0HJ6hg_",
        "colab_type": "text"
      },
      "source": [
        "**Ranking Data**\n",
        "\n",
        "We add year, month, and day fields to the ranking data. We also standardize some column names. Finally, we drop duplicates. Looking at the duplicates, we see that they are exact duplicates and so no information is lost by \"deduping\". "
      ]
    },
    {
      "cell_type": "code",
      "metadata": {
        "id": "udkjk-hTVOqg",
        "colab_type": "code",
        "colab": {}
      },
      "source": [
        "filenames = [i for i in glob.glob('*.{}'.format('csv')) if \"atp_rankings\" in i]\n",
        "atp_rankings = pd.concat([pd.read_csv(f) for f in filenames if f !=\"atp_rankings_current.csv\"])\n",
        "atp_rankings_current = pd.read_csv(\"atp_rankings_current.csv\",names=atp_rankings.columns)\n",
        "atp_rankings = pd.concat([atp_rankings,atp_rankings_current])\n",
        "atp_rankings[\"year\"] = [int(np.floor(i/10000)) for i in atp_rankings[\"ranking_date\"].values]\n",
        "atp_rankings['monthday'] = atp_rankings['ranking_date'] - atp_rankings['year']*10000\n",
        "atp_rankings['month'] = [int(np.floor(i/100)) for i in atp_rankings['monthday']]\n",
        "atp_rankings['day'] = atp_rankings['monthday'] - atp_rankings['month']*100\n",
        "del atp_rankings['monthday']\n",
        "atp_rankings = atp_rankings.drop_duplicates()"
      ],
      "execution_count": 4,
      "outputs": []
    },
    {
      "cell_type": "markdown",
      "metadata": {
        "id": "E37eT6oW6Zbj",
        "colab_type": "text"
      },
      "source": [
        "**Match Data**\n",
        "\n",
        "After reading in the match data, we add a year field to the to keep track of the file source as well as the year."
      ]
    },
    {
      "cell_type": "code",
      "metadata": {
        "id": "0kJFDYHvN5qe",
        "colab_type": "code",
        "colab": {}
      },
      "source": [
        "filenames = [i for i in glob.glob('*.{}'.format('csv')) if \"atp_matches\" in i]\n",
        "atp_matches = pd.concat([pd.read_csv(f) for f in filenames ])\n",
        "atp_matches[\"year\"] = [int(i[0:4]) for i in atp_matches[\"tourney_id\"].values]"
      ],
      "execution_count": 5,
      "outputs": []
    },
    {
      "cell_type": "markdown",
      "metadata": {
        "id": "PZTodg8q0Zlg",
        "colab_type": "text"
      },
      "source": [
        "We identified a series of ways in which we might want to clean up the match data in the data exploration notebook. These include the following bullets. See that notebook for more detail on these. \n",
        "\n",
        "- Drop matches with no detail match statistics\n",
        "- Drop Davis Cup matches\n",
        "- Drop 2020\n",
        "- Drop matches with missing minutes\n",
        "- Drop matches with missing ranking points and rankings\n",
        "- Create set scores from `score` field\n",
        "\n",
        "Let's actually work through some of that cleaning now. \n",
        "\n",
        "First, we create a flag for matches with missing detail match statistics. This can be done by just filtering based on one of the detail match statistics. We'll use winner ace count (`w_ace`). We also create a flag for all Davis Cup matches useing the `tourney_level` field. We then create a flag for the 2020 season, since the data are incomplete. Finally, we create a flag for matches with missing `minutes`  (most of these are from 2015 and before 2000). There must be something a bit off about these matches. So it's probably safest to not rely on any data from them. For now, we also create a flag for matches with missing player ranks or points. These are primarily from before 2000. "
      ]
    },
    {
      "cell_type": "code",
      "metadata": {
        "id": "ga3aBJfz0qqu",
        "colab_type": "code",
        "colab": {}
      },
      "source": [
        "atp_matches[\"NoDetailStats\"] = np.where(atp_matches[\"w_ace\"].notnull(),0,1)\n",
        "atp_matches[\"Davis_Cup\"] = np.where(atp_matches[\"tourney_level\"] != \"D\",0,1)\n",
        "atp_matches[\"Year2020\"] = np.where(atp_matches[\"year\"] != 2020,0,1)\n",
        "atp_matches[\"NoMinutes\"] = np.where(atp_matches[\"minutes\"].notnull(),0,1)\n",
        "atp_matches[\"NoWinnerRank\"] = np.where(atp_matches[\"winner_rank\"].notnull(),0,1)\n",
        "atp_matches[\"NoLoserRank\"] = np.where(atp_matches[\"loser_rank\"].notnull(),0,1)\n",
        "atp_matches[\"NoWinnerRankPoints\"] = np.where(atp_matches[\"winner_rank_points\"].notnull(),0,1)\n",
        "atp_matches[\"NoLoserRankPoints\"] = np.where(atp_matches[\"loser_rank_points\"].notnull(),0,1)"
      ],
      "execution_count": 6,
      "outputs": []
    },
    {
      "cell_type": "markdown",
      "metadata": {
        "id": "xiZRCUEk9nRb",
        "colab_type": "text"
      },
      "source": [
        "Here is code that can be used for actually dropping these matches. We're still left with over 80,000 matches."
      ]
    },
    {
      "cell_type": "code",
      "metadata": {
        "id": "7Yfvt8Qx95Bk",
        "colab_type": "code",
        "colab": {
          "base_uri": "https://localhost:8080/",
          "height": 34
        },
        "outputId": "45481dd8-c832-45c0-ad2e-29bb8236d623"
      },
      "source": [
        "atp_matches[(atp_matches[\"NoDetailStats\"]==0) & \n",
        "            (atp_matches[\"Davis_Cup\"]==0) & \n",
        "            (atp_matches[\"Year2020\"]==0) & \n",
        "            (atp_matches[\"NoMinutes\"]==0) & \n",
        "            (atp_matches[\"NoWinnerRank\"]==0) & \n",
        "            (atp_matches[\"NoLoserRank\"]==0) & \n",
        "            (atp_matches[\"NoWinnerRankPoints\"]==0) & \n",
        "            (atp_matches[\"NoLoserRankPoints\"]==0)].shape"
      ],
      "execution_count": 7,
      "outputs": [
        {
          "output_type": "execute_result",
          "data": {
            "text/plain": [
              "(80683, 58)"
            ]
          },
          "metadata": {
            "tags": []
          },
          "execution_count": 7
        }
      ]
    },
    {
      "cell_type": "markdown",
      "metadata": {
        "id": "Mz7fAqc69_QN",
        "colab_type": "text"
      },
      "source": [
        "Now, let's create set by set scores from the `score` field. We'll also identify when a player retired, drop matches with suspicious or obviously wrong scores, and add a field indicating whether there was a tiebreak and what the score was. \n",
        "\n",
        "First we create a retirement indicator. We see that ~2,500 matches ended in retirement (i.e., about 2.7%)."
      ]
    },
    {
      "cell_type": "code",
      "metadata": {
        "id": "qSw5OqqG9_a-",
        "colab_type": "code",
        "colab": {
          "base_uri": "https://localhost:8080/",
          "height": 51
        },
        "outputId": "60bb0512-b770-42d7-efc1-eeca04fe76fe"
      },
      "source": [
        "atp_matches[\"retirement\"] = [1 if str(i).find(\"RET\") != -1 else 0 for i in atp_matches[\"score\"]]\n",
        "x = Counter(atp_matches[\"retirement\"])\n",
        "print(\"Number of Matches Ending in Retirement:\",x[1])\n",
        "print(\"Percent of Matches Ending in Retirement:\",round(x[1]/x[0]*100,1),\"%\")"
      ],
      "execution_count": 8,
      "outputs": [
        {
          "output_type": "stream",
          "text": [
            "Number of Matches Ending in Retirement: 2543\n",
            "Percent of Matches Ending in Retirement: 2.7 %\n"
          ],
          "name": "stdout"
        }
      ]
    },
    {
      "cell_type": "markdown",
      "metadata": {
        "id": "uIA1PnFsCYGR",
        "colab_type": "text"
      },
      "source": [
        "Next we flag any matches with a score that includes a letter other than \"RET\". "
      ]
    },
    {
      "cell_type": "code",
      "metadata": {
        "id": "Bp2ax-dZ_mqz",
        "colab_type": "code",
        "colab": {
          "base_uri": "https://localhost:8080/",
          "height": 51
        },
        "outputId": "1d4f915a-2ec4-49de-8da5-a616da1735f0"
      },
      "source": [
        "score = [str(s).replace('RET', '').strip() for s in atp_matches[\"score\"]]\n",
        "any_alpha = [re.search('[a-zA-Z]', str(s)) for s in score]\n",
        "drop_any_alpha = [s is None for s in any_alpha]\n",
        "print(Counter(drop_any_alpha))\n",
        "atp_matches = atp_matches[drop_any_alpha]\n",
        "atp_matches = atp_matches[atp_matches[\"score\"]!=\"\"]\n",
        "atp_matches.shape"
      ],
      "execution_count": 9,
      "outputs": [
        {
          "output_type": "stream",
          "text": [
            "Counter({True: 95411, False: 476})\n"
          ],
          "name": "stdout"
        },
        {
          "output_type": "execute_result",
          "data": {
            "text/plain": [
              "(95411, 59)"
            ]
          },
          "metadata": {
            "tags": []
          },
          "execution_count": 9
        }
      ]
    },
    {
      "cell_type": "markdown",
      "metadata": {
        "id": "t7SZAWATG86A",
        "colab_type": "text"
      },
      "source": [
        "Note that there are two matches with retirements before one game was finished."
      ]
    },
    {
      "cell_type": "code",
      "metadata": {
        "id": "V7jvC-m1Gf-R",
        "colab_type": "code",
        "colab": {
          "base_uri": "https://localhost:8080/",
          "height": 165
        },
        "outputId": "6026efa0-01c8-4e37-ed47-80aaf12389b3"
      },
      "source": [
        "score = [str(s).replace('RET', '').strip() for s in atp_matches[\"score\"]]\n",
        "atp_matches[[True if s==\"\" else False for s in score ]]"
      ],
      "execution_count": 10,
      "outputs": [
        {
          "output_type": "execute_result",
          "data": {
            "text/html": [
              "<div>\n",
              "<style scoped>\n",
              "    .dataframe tbody tr th:only-of-type {\n",
              "        vertical-align: middle;\n",
              "    }\n",
              "\n",
              "    .dataframe tbody tr th {\n",
              "        vertical-align: top;\n",
              "    }\n",
              "\n",
              "    .dataframe thead th {\n",
              "        text-align: right;\n",
              "    }\n",
              "</style>\n",
              "<table border=\"1\" class=\"dataframe\">\n",
              "  <thead>\n",
              "    <tr style=\"text-align: right;\">\n",
              "      <th></th>\n",
              "      <th>tourney_id</th>\n",
              "      <th>tourney_name</th>\n",
              "      <th>surface</th>\n",
              "      <th>draw_size</th>\n",
              "      <th>tourney_level</th>\n",
              "      <th>tourney_date</th>\n",
              "      <th>match_num</th>\n",
              "      <th>winner_id</th>\n",
              "      <th>winner_seed</th>\n",
              "      <th>winner_entry</th>\n",
              "      <th>winner_name</th>\n",
              "      <th>winner_hand</th>\n",
              "      <th>winner_ht</th>\n",
              "      <th>winner_ioc</th>\n",
              "      <th>winner_age</th>\n",
              "      <th>loser_id</th>\n",
              "      <th>loser_seed</th>\n",
              "      <th>loser_entry</th>\n",
              "      <th>loser_name</th>\n",
              "      <th>loser_hand</th>\n",
              "      <th>loser_ht</th>\n",
              "      <th>loser_ioc</th>\n",
              "      <th>loser_age</th>\n",
              "      <th>score</th>\n",
              "      <th>best_of</th>\n",
              "      <th>round</th>\n",
              "      <th>minutes</th>\n",
              "      <th>w_ace</th>\n",
              "      <th>w_df</th>\n",
              "      <th>w_svpt</th>\n",
              "      <th>w_1stIn</th>\n",
              "      <th>w_1stWon</th>\n",
              "      <th>w_2ndWon</th>\n",
              "      <th>w_SvGms</th>\n",
              "      <th>w_bpSaved</th>\n",
              "      <th>w_bpFaced</th>\n",
              "      <th>l_ace</th>\n",
              "      <th>l_df</th>\n",
              "      <th>l_svpt</th>\n",
              "      <th>l_1stIn</th>\n",
              "      <th>l_1stWon</th>\n",
              "      <th>l_2ndWon</th>\n",
              "      <th>l_SvGms</th>\n",
              "      <th>l_bpSaved</th>\n",
              "      <th>l_bpFaced</th>\n",
              "      <th>winner_rank</th>\n",
              "      <th>winner_rank_points</th>\n",
              "      <th>loser_rank</th>\n",
              "      <th>loser_rank_points</th>\n",
              "      <th>year</th>\n",
              "      <th>NoDetailStats</th>\n",
              "      <th>Davis_Cup</th>\n",
              "      <th>Year2020</th>\n",
              "      <th>NoMinutes</th>\n",
              "      <th>NoWinnerRank</th>\n",
              "      <th>NoLoserRank</th>\n",
              "      <th>NoWinnerRankPoints</th>\n",
              "      <th>NoLoserRankPoints</th>\n",
              "      <th>retirement</th>\n",
              "    </tr>\n",
              "  </thead>\n",
              "  <tbody>\n",
              "    <tr>\n",
              "      <th>2012</th>\n",
              "      <td>2007-520</td>\n",
              "      <td>Roland Garros</td>\n",
              "      <td>Clay</td>\n",
              "      <td>128</td>\n",
              "      <td>G</td>\n",
              "      <td>20070528</td>\n",
              "      <td>8</td>\n",
              "      <td>104022</td>\n",
              "      <td>13</td>\n",
              "      <td>NaN</td>\n",
              "      <td>Mikhail Youzhny</td>\n",
              "      <td>R</td>\n",
              "      <td>183.0</td>\n",
              "      <td>RUS</td>\n",
              "      <td>24.922656</td>\n",
              "      <td>103401</td>\n",
              "      <td>NaN</td>\n",
              "      <td>NaN</td>\n",
              "      <td>Jan Hernych</td>\n",
              "      <td>R</td>\n",
              "      <td>190.0</td>\n",
              "      <td>CZE</td>\n",
              "      <td>27.890486</td>\n",
              "      <td>RET</td>\n",
              "      <td>5</td>\n",
              "      <td>R128</td>\n",
              "      <td>8.0</td>\n",
              "      <td>0.0</td>\n",
              "      <td>0.0</td>\n",
              "      <td>0.0</td>\n",
              "      <td>0.0</td>\n",
              "      <td>0.0</td>\n",
              "      <td>0.0</td>\n",
              "      <td>0.0</td>\n",
              "      <td>0.0</td>\n",
              "      <td>0.0</td>\n",
              "      <td>0.0</td>\n",
              "      <td>1.0</td>\n",
              "      <td>9.0</td>\n",
              "      <td>5.0</td>\n",
              "      <td>3.0</td>\n",
              "      <td>1.0</td>\n",
              "      <td>0.0</td>\n",
              "      <td>1.0</td>\n",
              "      <td>1.0</td>\n",
              "      <td>15.0</td>\n",
              "      <td>1685.0</td>\n",
              "      <td>92.0</td>\n",
              "      <td>454.0</td>\n",
              "      <td>2007</td>\n",
              "      <td>0</td>\n",
              "      <td>0</td>\n",
              "      <td>0</td>\n",
              "      <td>0</td>\n",
              "      <td>0</td>\n",
              "      <td>0</td>\n",
              "      <td>0</td>\n",
              "      <td>0</td>\n",
              "      <td>1</td>\n",
              "    </tr>\n",
              "    <tr>\n",
              "      <th>125</th>\n",
              "      <td>2013-338</td>\n",
              "      <td>Sydney</td>\n",
              "      <td>Hard</td>\n",
              "      <td>28</td>\n",
              "      <td>A</td>\n",
              "      <td>20130107</td>\n",
              "      <td>14</td>\n",
              "      <td>103898</td>\n",
              "      <td>NaN</td>\n",
              "      <td>NaN</td>\n",
              "      <td>Julien Benneteau</td>\n",
              "      <td>R</td>\n",
              "      <td>185.0</td>\n",
              "      <td>FRA</td>\n",
              "      <td>31.049966</td>\n",
              "      <td>103285</td>\n",
              "      <td>6</td>\n",
              "      <td>NaN</td>\n",
              "      <td>Radek Stepanek</td>\n",
              "      <td>R</td>\n",
              "      <td>185.0</td>\n",
              "      <td>CZE</td>\n",
              "      <td>34.113621</td>\n",
              "      <td>RET</td>\n",
              "      <td>3</td>\n",
              "      <td>R16</td>\n",
              "      <td>NaN</td>\n",
              "      <td>NaN</td>\n",
              "      <td>NaN</td>\n",
              "      <td>NaN</td>\n",
              "      <td>NaN</td>\n",
              "      <td>NaN</td>\n",
              "      <td>NaN</td>\n",
              "      <td>NaN</td>\n",
              "      <td>NaN</td>\n",
              "      <td>NaN</td>\n",
              "      <td>NaN</td>\n",
              "      <td>NaN</td>\n",
              "      <td>NaN</td>\n",
              "      <td>NaN</td>\n",
              "      <td>NaN</td>\n",
              "      <td>NaN</td>\n",
              "      <td>NaN</td>\n",
              "      <td>NaN</td>\n",
              "      <td>NaN</td>\n",
              "      <td>35.0</td>\n",
              "      <td>1075.0</td>\n",
              "      <td>34.0</td>\n",
              "      <td>1090.0</td>\n",
              "      <td>2013</td>\n",
              "      <td>1</td>\n",
              "      <td>0</td>\n",
              "      <td>0</td>\n",
              "      <td>1</td>\n",
              "      <td>0</td>\n",
              "      <td>0</td>\n",
              "      <td>0</td>\n",
              "      <td>0</td>\n",
              "      <td>1</td>\n",
              "    </tr>\n",
              "  </tbody>\n",
              "</table>\n",
              "</div>"
            ],
            "text/plain": [
              "     tourney_id   tourney_name  ... NoLoserRankPoints  retirement\n",
              "2012   2007-520  Roland Garros  ...                 0           1\n",
              "125    2013-338         Sydney  ...                 0           1\n",
              "\n",
              "[2 rows x 59 columns]"
            ]
          },
          "metadata": {
            "tags": []
          },
          "execution_count": 10
        }
      ]
    },
    {
      "cell_type": "markdown",
      "metadata": {
        "id": "QTpWfJ-_KUzx",
        "colab_type": "text"
      },
      "source": [
        "Now we break the overall score into set by set scores. Note that this creates many missing values for third, fourth, and fifth sets, which are not always played. We then break the set level scores into the number of games won in that set for each player. Note that the winner of the match's games are listed first. Also note that the results of tie breaks are in parentheses. The tie break score is just the number of points won by the loser of the tie break. We move these into another seperate column. So we end up with three columns per set: winner games, loser games, and tie break score."
      ]
    },
    {
      "cell_type": "code",
      "metadata": {
        "id": "JGtmo2c-DIRI",
        "colab_type": "code",
        "colab": {}
      },
      "source": [
        "set_scores = pd.DataFrame.from_records([str(s).split(\" \") for s in score],\n",
        "                                       columns=[\"Set1\",\"Set2\",\"Set3\",\"Set4\",\"Set5\"])\n",
        "def getSetScores(n):\n",
        "  Set_score = pd.DataFrame.from_records([s.replace(')', '').split(\"(\") for s in \n",
        "              [str(s) for s in set_scores[\"Set\"+str(n)].values]],\n",
        "              columns=[\"Set\"+str(n)+\"_Score\",\"Set\"+str(n)+\"_Tiebreak\"])\n",
        "  Set_Tiebreak = Set_score[\"Set\"+str(n)+\"_Tiebreak\"]\n",
        "  Set_score = pd.DataFrame.from_records([s.split(\"-\") for s in Set_score[\"Set\"+str(n)+\"_Score\"]],\n",
        "              columns=[\"Winner_Set\"+str(n)+\"_Score\",\"Loser_Set\"+str(n)+\"_Score\"])\n",
        "  Set_score[\"Set\"+str(n)+\"_Tiebreak\"] = Set_Tiebreak\n",
        "  atp_matches[\"Winner_Set\"+str(n)+\"_Score\"] = Set_score[\"Winner_Set\"+str(n)+\"_Score\"]\n",
        "  atp_matches[\"Loser_Set\"+str(n)+\"_Score\"] = Set_score[\"Loser_Set\"+str(n)+\"_Score\"]\n",
        "  atp_matches[\"Set\"+str(n)+\"_Tiebreak\"] = Set_score[\"Set\"+str(n)+\"_Tiebreak\"]\n",
        "\n",
        "Set1 = getSetScores(1)\n",
        "Set2 = getSetScores(2)\n",
        "Set3 = getSetScores(3)\n",
        "Set4 = getSetScores(4)\n",
        "Set5 = getSetScores(5)"
      ],
      "execution_count": 11,
      "outputs": []
    },
    {
      "cell_type": "markdown",
      "metadata": {
        "id": "JjOEYDoJIjwn",
        "colab_type": "text"
      },
      "source": [
        "**Create SQL Database**\n",
        "\n",
        "We create a `sqlite3` database that will store the match, player, and ranking information. So we establish the database first.\n"
      ]
    },
    {
      "cell_type": "code",
      "metadata": {
        "id": "eO7FMHiYIj12",
        "colab_type": "code",
        "colab": {}
      },
      "source": [
        "connection = sqlite3.connect('/content/drive/My Drive/ATP Tennis/Database/ATP_Tennis.db')\n",
        "c = connection.cursor()"
      ],
      "execution_count": 12,
      "outputs": []
    },
    {
      "cell_type": "markdown",
      "metadata": {
        "id": "sDiN_23FZEZ9",
        "colab_type": "text"
      },
      "source": [
        "And then we create tables in the database. "
      ]
    },
    {
      "cell_type": "code",
      "metadata": {
        "id": "c9DTDsHcOA43",
        "colab_type": "code",
        "colab": {}
      },
      "source": [
        "atp_matches.to_sql('ATP_MATCHES', connection, if_exists='replace', index = False)\n",
        "atp_players.to_sql('ATP_PLAYERS', connection, if_exists='replace', index = False)\n",
        "atp_rankings.to_sql('ATP_RANKINGS', connection, if_exists='replace', index = False)"
      ],
      "execution_count": 13,
      "outputs": []
    },
    {
      "cell_type": "markdown",
      "metadata": {
        "id": "JcrgJa7wZlg4",
        "colab_type": "text"
      },
      "source": [
        "**Test Database**\n",
        "\n",
        "Let's run a quick check that things are working properly. We'll query which players were ranked number 1 since 1991 and count how many weeks they held the top spot. Note that the ranking data is at the weekly level."
      ]
    },
    {
      "cell_type": "code",
      "metadata": {
        "id": "eqj_xVxAZ0DR",
        "colab_type": "code",
        "colab": {
          "base_uri": "https://localhost:8080/",
          "height": 315
        },
        "outputId": "3c9c0865-8a61-43e6-c55d-e638c2b401f6"
      },
      "source": [
        "c.execute('''\n",
        "SELECT b.last_name, count() as weeks_no_1\n",
        "FROM ATP_RANKINGS as a, ATP_PLAYERS as b\n",
        "ON a.player=b.player\n",
        "WHERE a.rank == 1\n",
        "GROUP BY b.last_name\n",
        "ORDER BY -weeks_no_1\n",
        "''')\n",
        "No1_Ranked_Players = pd.DataFrame(c.fetchall(),columns=[c.description[i][0] for i in range(len(c.description))])\n",
        "plt.bar(No1_Ranked_Players[\"last_name\"], No1_Ranked_Players[\"weeks_no_1\"])\n",
        "plt.title(\"Weeks at No. 1 from 1991-2020\")\n",
        "plt.xticks(rotation=45)\n",
        "plt.show()"
      ],
      "execution_count": 14,
      "outputs": [
        {
          "output_type": "display_data",
          "data": {
            "image/png": "[encoded data removed]",
            "text/plain": [
              "<Figure size 432x288 with 1 Axes>"
            ]
          },
          "metadata": {
            "tags": [],
            "needs_background": "light"
          }
        }
      ]
    },
    {
      "cell_type": "markdown",
      "metadata": {
        "id": "RU5PEq3guoGc",
        "colab_type": "text"
      },
      "source": [
        "What is particularly striking is the level of dominance by particular sets of players. We plot the rank of all players that were ranked number 1 for more than 60 weeks from 1991-2020. This allows us to see the transition from the 90s era of dominance by Sampras, Agassi, and Hewitt to the modern era dominated by Federer, Nadal, and Djokovic. "
      ]
    },
    {
      "cell_type": "code",
      "metadata": {
        "id": "4_QNBXNRf5aR",
        "colab_type": "code",
        "colab": {
          "base_uri": "https://localhost:8080/",
          "height": 285
        },
        "outputId": "cf1a1191-e2b1-4fbd-dc78-67735439937c"
      },
      "source": [
        "c.execute('''\n",
        "SELECT a.*, c.last_name\n",
        "FROM ATP_RANKINGS as a \n",
        "INNER JOIN\n",
        "  (\n",
        "    SELECT player,count() as weeks_no_1\n",
        "    FROM ATP_RANKINGS\n",
        "    WHERE rank==1\n",
        "    GROUP BY player\n",
        "    HAVING weeks_no_1>60\n",
        "  ) as b \n",
        "ON a.player=b.player \n",
        "INNER JOIN ATP_PLAYERS as c\n",
        "ON a.player=c.player \n",
        "ORDER BY a.ranking_date\n",
        "''')\n",
        "No1_Ranked_Players = pd.DataFrame(c.fetchall(),columns=[c.description[i][0] for i in range(len(c.description))])\n",
        "No1_Ranked_Players['rank'] = -No1_Ranked_Players['rank']\n",
        "No1_Ranked_Players['date'] = [datetime.date(year=i,day=j,month=k) for i,j,k in zip(No1_Ranked_Players['year'],No1_Ranked_Players['day'],No1_Ranked_Players['month'])]\n",
        "No1_Ranked_Players = No1_Ranked_Players.pivot(index='date',columns='last_name')[['rank']]\n",
        "No1_Ranked_Players.plot()\n",
        "plt.ylim(-50,1)\n",
        "plt.title(\"Rankings of Players with More than 60 Weeks at No. 1\")\n",
        "plt.ylabel(\"Negative Ranking\")\n",
        "plt.legend()\n",
        "plt.show()"
      ],
      "execution_count": 15,
      "outputs": [
        {
          "output_type": "display_data",
          "data": {
            "image/png": "[encoded data removed]",
            "text/plain": [
              "<Figure size 432x288 with 1 Axes>"
            ]
          },
          "metadata": {
            "tags": [],
            "needs_background": "light"
          }
        }
      ]
    },
    {
      "cell_type": "markdown",
      "metadata": {
        "id": "Wu8vzCQ36BeB",
        "colab_type": "text"
      },
      "source": [
        "So we now have a cleaned analysis database that we can use for quick analyses like those above as well as for more involved modeling and analysis. We'll get into that in future notebooks."
      ]
    }
  ]
}